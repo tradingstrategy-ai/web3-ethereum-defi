{
 "cells": [
  {
   "metadata": {},
   "cell_type": "markdown",
   "source": [
    "# ERC-4626: vault ecosystem comparison across chains\n",
    "\n",
    "- In this notebook, we examine different ERC-4626 vaults across different EVM blockchains   \n",
    "    - Currently we do not scan non-ERC-4626 vaults like Enzyme Finance, or any protocol-native vaults like Hyperliquid HPL. This is not an inherit limitation, this is not just yet implemented.\n",
    "- We assemble various data tables out of the vault data to show and compare the blockchain ecosystems\n",
    "- The analysis focus on USD-stablecoin nonminatd vaults\n",
    "    - Currently missing are e.g. WETH vaults and staking vaults for various small cap tokens\n",
    "    - There is no ERC standard for vaults fees - for some protocols we have manualled added fee reading support  \n",
    "- The list of chains is somewhat randomly selected and very easy to extend to contain any chain supported by [Envio's HyperSync](https://docs.envio.dev/docs/HyperSync/hypersync-supported-networks)\n",
    "- Everything is open source: You can run this notebook and associated scripts yourself on your local computer, it will take around an hour\n",
    "\n",
    "## Usage\n",
    "\n",
    "See `ERC-4626 scanning all vaults onchain` example in tutorials first how to build a vault database as local `vault_db.pickle` file.\n",
    "\n",
    "\n"
   ],
   "id": "cf83111106995fcd"
  },
  {
   "metadata": {},
   "cell_type": "markdown",
   "source": [
    "## Setup\n",
    "\n",
    "- Set up notebook renderinb parmaeters"
   ],
   "id": "dd7cd6a4de6a4560"
  },
  {
   "metadata": {},
   "cell_type": "code",
   "outputs": [],
   "execution_count": null,
   "source": [
    "import pandas as pd\n",
    "\n",
    "pd.options.display.float_format = '{:,.2f}'.format"
   ],
   "id": "d06f21b8e73e3250"
  },
  {
   "metadata": {},
   "cell_type": "markdown",
   "source": [
    "## Read scanned data\n",
    "\n",
    "- Read the Pickle database our scanning script produced earlier "
   ],
   "id": "df7bc85df7eece63"
  },
  {
   "metadata": {
    "ExecuteTime": {
     "end_time": "2025-04-07T09:45:35.311277Z",
     "start_time": "2025-04-07T09:45:34.067155Z"
    }
   },
   "cell_type": "code",
   "source": [
    "import pickle\n",
    "from pathlib import Path\n",
    "\n",
    "import pandas as pd\n",
    "\n",
    "from eth_defi.token import is_stablecoin_like\n",
    "\n",
    "output_folder = Path(\"~/.tradingstrategy/vaults\").expanduser()\n",
    "vault_db = output_folder / \"vault-db.pickle\"\n",
    "assert vault_db.exists(), \"Run the vault scanner script first\"\n",
    "\n",
    "vault_db = pickle.load(open(vault_db, \"rb\"))\n",
    "\n",
    "print(f\"We have data for {len(vault_db)} vaults\")"
   ],
   "id": "e4d75b14752c7ea",
   "outputs": [
    {
     "name": "stdout",
     "output_type": "stream",
     "text": [
      "We have data for 6976 vaults\n"
     ]
    }
   ],
   "execution_count": 1
  },
  {
   "metadata": {},
   "cell_type": "markdown",
   "source": [
    "## Transform data\n",
    "\n",
    "- Prepare the raw vault pickled data as Pandas DataFrame for data research"
   ],
   "id": "f99f2433ec583326"
  },
  {
   "metadata": {
    "ExecuteTime": {
     "end_time": "2025-04-07T09:45:52.179631Z",
     "start_time": "2025-04-07T09:45:52.097170Z"
    }
   },
   "cell_type": "code",
   "source": [
    "import pandas as pd\n",
    "from eth_defi.erc_4626.hypersync_discovery import ERC4262VaultDetection\n",
    "from eth_defi.chain import get_chain_name\n",
    "from eth_defi.token import is_stablecoin_like\n",
    "\n",
    "data = list(vault_db.values())\n",
    "df = pd.DataFrame(data)\n",
    "\n",
    "# Build useful columns out of raw pickled Python data\n",
    "# _detection_data contains entries as ERC4262VaultDetection class\n",
    "entry: ERC4262VaultDetection\n",
    "df[\"Chain\"] = df[\"_detection_data\"].apply(lambda entry: get_chain_name(entry.chain))\n",
    "df[\"Protocol identified\"] = df[\"_detection_data\"].apply(lambda entry: entry.is_protocol_identifiable())\n",
    "df[\"Stablecoin denominated\"] = df[\"_denomination_token\"].apply(lambda token_data: is_stablecoin_like(token_data[\"symbol\"]) if token_data else False)\n",
    "df[\"ERC-7540\"] = df[\"_detection_data\"].apply(lambda entry: entry.is_erc_7540())\n",
    "df[\"Fee detected\"] = df.apply(lambda row: (row[\"Mgmt fee\"] is not None) or (row[\"Perf fee\"] is not None), axis=1)\n",
    "# Event counts\n",
    "df[\"Deposit count\"] = df[\"_detection_data\"].apply(lambda entry: entry.deposit_count)\n",
    "df[\"Redeem count\"] = df[\"_detection_data\"].apply(lambda entry: entry.redeem_count)\n",
    "df[\"Total events\"] = df[\"Deposit count\"] + df[\"Redeem count\"] \n",
    "df = df.sort_values([\"Chain\", \"Address\"])\n",
    "df = df.set_index([\"Chain\", \"Address\"])\n",
    "\n",
    "print(\"DataFrame MultiIndex is:\", \", \".join(x for x in df.index.names))\n",
    "print(\"DataFrame columns are:\", \", \".join(x for x in df.columns))\n",
    "\n",
    "display(df.head())"
   ],
   "id": "bb0ce934632f4c7c",
   "outputs": [
    {
     "ename": "AttributeError",
     "evalue": "'float' object has no attribute 'is_stablecoin_like'",
     "output_type": "error",
     "traceback": [
      "\u001B[31m---------------------------------------------------------------------------\u001B[39m",
      "\u001B[31mAttributeError\u001B[39m                            Traceback (most recent call last)",
      "\u001B[36mCell\u001B[39m\u001B[36m \u001B[39m\u001B[32mIn[3]\u001B[39m\u001B[32m, line 13\u001B[39m\n\u001B[32m     11\u001B[39m df[\u001B[33m\"\u001B[39m\u001B[33mChain\u001B[39m\u001B[33m\"\u001B[39m] = df[\u001B[33m\"\u001B[39m\u001B[33m_detection_data\u001B[39m\u001B[33m\"\u001B[39m].apply(\u001B[38;5;28;01mlambda\u001B[39;00m entry: get_chain_name(entry.chain))\n\u001B[32m     12\u001B[39m df[\u001B[33m\"\u001B[39m\u001B[33mProtocol identified\u001B[39m\u001B[33m\"\u001B[39m] = df[\u001B[33m\"\u001B[39m\u001B[33m_detection_data\u001B[39m\u001B[33m\"\u001B[39m].apply(\u001B[38;5;28;01mlambda\u001B[39;00m entry: entry.is_protocol_identifiable())\n\u001B[32m---> \u001B[39m\u001B[32m13\u001B[39m df[\u001B[33m\"\u001B[39m\u001B[33mStablecoin denominated\u001B[39m\u001B[33m\"\u001B[39m] = \u001B[43mdf\u001B[49m\u001B[43m[\u001B[49m\u001B[33;43m\"\u001B[39;49m\u001B[33;43m_denomination_token\u001B[39;49m\u001B[33;43m\"\u001B[39;49m\u001B[43m]\u001B[49m\u001B[43m.\u001B[49m\u001B[43mapply\u001B[49m\u001B[43m(\u001B[49m\u001B[38;5;28;43;01mlambda\u001B[39;49;00m\u001B[43m \u001B[49m\u001B[43mtoken_details\u001B[49m\u001B[43m:\u001B[49m\u001B[43m \u001B[49m\u001B[43mtoken_details\u001B[49m\u001B[43m.\u001B[49m\u001B[43mis_stablecoin_like\u001B[49m\u001B[43m(\u001B[49m\u001B[43m)\u001B[49m\u001B[43m \u001B[49m\u001B[38;5;28;43;01mif\u001B[39;49;00m\u001B[43m \u001B[49m\u001B[43mtoken_details\u001B[49m\u001B[43m \u001B[49m\u001B[38;5;28;43;01melse\u001B[39;49;00m\u001B[43m \u001B[49m\u001B[38;5;28;43;01mFalse\u001B[39;49;00m\u001B[43m)\u001B[49m\n\u001B[32m     14\u001B[39m df[\u001B[33m\"\u001B[39m\u001B[33mERC-7540\u001B[39m\u001B[33m\"\u001B[39m] = df[\u001B[33m\"\u001B[39m\u001B[33m_detection_data\u001B[39m\u001B[33m\"\u001B[39m].apply(\u001B[38;5;28;01mlambda\u001B[39;00m entry: entry.is_erc_7540())\n\u001B[32m     15\u001B[39m df[\u001B[33m\"\u001B[39m\u001B[33mFee detected\u001B[39m\u001B[33m\"\u001B[39m] = df[\u001B[33m\"\u001B[39m\u001B[33m_detection_data\u001B[39m\u001B[33m\"\u001B[39m].apply(\u001B[38;5;28;01mlambda\u001B[39;00m row: (row[\u001B[33m\"\u001B[39m\u001B[33mMgmt fee\u001B[39m\u001B[33m\"\u001B[39m] \u001B[38;5;129;01mis\u001B[39;00m \u001B[38;5;129;01mnot\u001B[39;00m \u001B[38;5;28;01mNone\u001B[39;00m) \u001B[38;5;129;01mor\u001B[39;00m (row[\u001B[33m\"\u001B[39m\u001B[33mPerf fee\u001B[39m\u001B[33m\"\u001B[39m] \u001B[38;5;129;01mis\u001B[39;00m \u001B[38;5;129;01mnot\u001B[39;00m \u001B[38;5;28;01mNone\u001B[39;00m))\n",
      "\u001B[36mFile \u001B[39m\u001B[32m~/Library/Caches/pypoetry/virtualenvs/web3-ethereum-defi-YE4GM4ox-py3.11/lib/python3.11/site-packages/pandas/core/series.py:4924\u001B[39m, in \u001B[36mSeries.apply\u001B[39m\u001B[34m(self, func, convert_dtype, args, by_row, **kwargs)\u001B[39m\n\u001B[32m   4789\u001B[39m \u001B[38;5;28;01mdef\u001B[39;00m\u001B[38;5;250m \u001B[39m\u001B[34mapply\u001B[39m(\n\u001B[32m   4790\u001B[39m     \u001B[38;5;28mself\u001B[39m,\n\u001B[32m   4791\u001B[39m     func: AggFuncType,\n\u001B[32m   (...)\u001B[39m\u001B[32m   4796\u001B[39m     **kwargs,\n\u001B[32m   4797\u001B[39m ) -> DataFrame | Series:\n\u001B[32m   4798\u001B[39m \u001B[38;5;250m    \u001B[39m\u001B[33;03m\"\"\"\u001B[39;00m\n\u001B[32m   4799\u001B[39m \u001B[33;03m    Invoke function on values of Series.\u001B[39;00m\n\u001B[32m   4800\u001B[39m \n\u001B[32m   (...)\u001B[39m\u001B[32m   4915\u001B[39m \u001B[33;03m    dtype: float64\u001B[39;00m\n\u001B[32m   4916\u001B[39m \u001B[33;03m    \"\"\"\u001B[39;00m\n\u001B[32m   4917\u001B[39m     \u001B[38;5;28;01mreturn\u001B[39;00m \u001B[43mSeriesApply\u001B[49m\u001B[43m(\u001B[49m\n\u001B[32m   4918\u001B[39m \u001B[43m        \u001B[49m\u001B[38;5;28;43mself\u001B[39;49m\u001B[43m,\u001B[49m\n\u001B[32m   4919\u001B[39m \u001B[43m        \u001B[49m\u001B[43mfunc\u001B[49m\u001B[43m,\u001B[49m\n\u001B[32m   4920\u001B[39m \u001B[43m        \u001B[49m\u001B[43mconvert_dtype\u001B[49m\u001B[43m=\u001B[49m\u001B[43mconvert_dtype\u001B[49m\u001B[43m,\u001B[49m\n\u001B[32m   4921\u001B[39m \u001B[43m        \u001B[49m\u001B[43mby_row\u001B[49m\u001B[43m=\u001B[49m\u001B[43mby_row\u001B[49m\u001B[43m,\u001B[49m\n\u001B[32m   4922\u001B[39m \u001B[43m        \u001B[49m\u001B[43margs\u001B[49m\u001B[43m=\u001B[49m\u001B[43margs\u001B[49m\u001B[43m,\u001B[49m\n\u001B[32m   4923\u001B[39m \u001B[43m        \u001B[49m\u001B[43mkwargs\u001B[49m\u001B[43m=\u001B[49m\u001B[43mkwargs\u001B[49m\u001B[43m,\u001B[49m\n\u001B[32m-> \u001B[39m\u001B[32m4924\u001B[39m \u001B[43m    \u001B[49m\u001B[43m)\u001B[49m\u001B[43m.\u001B[49m\u001B[43mapply\u001B[49m\u001B[43m(\u001B[49m\u001B[43m)\u001B[49m\n",
      "\u001B[36mFile \u001B[39m\u001B[32m~/Library/Caches/pypoetry/virtualenvs/web3-ethereum-defi-YE4GM4ox-py3.11/lib/python3.11/site-packages/pandas/core/apply.py:1427\u001B[39m, in \u001B[36mSeriesApply.apply\u001B[39m\u001B[34m(self)\u001B[39m\n\u001B[32m   1424\u001B[39m     \u001B[38;5;28;01mreturn\u001B[39;00m \u001B[38;5;28mself\u001B[39m.apply_compat()\n\u001B[32m   1426\u001B[39m \u001B[38;5;66;03m# self.func is Callable\u001B[39;00m\n\u001B[32m-> \u001B[39m\u001B[32m1427\u001B[39m \u001B[38;5;28;01mreturn\u001B[39;00m \u001B[38;5;28;43mself\u001B[39;49m\u001B[43m.\u001B[49m\u001B[43mapply_standard\u001B[49m\u001B[43m(\u001B[49m\u001B[43m)\u001B[49m\n",
      "\u001B[36mFile \u001B[39m\u001B[32m~/Library/Caches/pypoetry/virtualenvs/web3-ethereum-defi-YE4GM4ox-py3.11/lib/python3.11/site-packages/pandas/core/apply.py:1507\u001B[39m, in \u001B[36mSeriesApply.apply_standard\u001B[39m\u001B[34m(self)\u001B[39m\n\u001B[32m   1501\u001B[39m \u001B[38;5;66;03m# row-wise access\u001B[39;00m\n\u001B[32m   1502\u001B[39m \u001B[38;5;66;03m# apply doesn't have a `na_action` keyword and for backward compat reasons\u001B[39;00m\n\u001B[32m   1503\u001B[39m \u001B[38;5;66;03m# we need to give `na_action=\"ignore\"` for categorical data.\u001B[39;00m\n\u001B[32m   1504\u001B[39m \u001B[38;5;66;03m# TODO: remove the `na_action=\"ignore\"` when that default has been changed in\u001B[39;00m\n\u001B[32m   1505\u001B[39m \u001B[38;5;66;03m#  Categorical (GH51645).\u001B[39;00m\n\u001B[32m   1506\u001B[39m action = \u001B[33m\"\u001B[39m\u001B[33mignore\u001B[39m\u001B[33m\"\u001B[39m \u001B[38;5;28;01mif\u001B[39;00m \u001B[38;5;28misinstance\u001B[39m(obj.dtype, CategoricalDtype) \u001B[38;5;28;01melse\u001B[39;00m \u001B[38;5;28;01mNone\u001B[39;00m\n\u001B[32m-> \u001B[39m\u001B[32m1507\u001B[39m mapped = \u001B[43mobj\u001B[49m\u001B[43m.\u001B[49m\u001B[43m_map_values\u001B[49m\u001B[43m(\u001B[49m\n\u001B[32m   1508\u001B[39m \u001B[43m    \u001B[49m\u001B[43mmapper\u001B[49m\u001B[43m=\u001B[49m\u001B[43mcurried\u001B[49m\u001B[43m,\u001B[49m\u001B[43m \u001B[49m\u001B[43mna_action\u001B[49m\u001B[43m=\u001B[49m\u001B[43maction\u001B[49m\u001B[43m,\u001B[49m\u001B[43m \u001B[49m\u001B[43mconvert\u001B[49m\u001B[43m=\u001B[49m\u001B[38;5;28;43mself\u001B[39;49m\u001B[43m.\u001B[49m\u001B[43mconvert_dtype\u001B[49m\n\u001B[32m   1509\u001B[39m \u001B[43m\u001B[49m\u001B[43m)\u001B[49m\n\u001B[32m   1511\u001B[39m \u001B[38;5;28;01mif\u001B[39;00m \u001B[38;5;28mlen\u001B[39m(mapped) \u001B[38;5;129;01mand\u001B[39;00m \u001B[38;5;28misinstance\u001B[39m(mapped[\u001B[32m0\u001B[39m], ABCSeries):\n\u001B[32m   1512\u001B[39m     \u001B[38;5;66;03m# GH#43986 Need to do list(mapped) in order to get treated as nested\u001B[39;00m\n\u001B[32m   1513\u001B[39m     \u001B[38;5;66;03m#  See also GH#25959 regarding EA support\u001B[39;00m\n\u001B[32m   1514\u001B[39m     \u001B[38;5;28;01mreturn\u001B[39;00m obj._constructor_expanddim(\u001B[38;5;28mlist\u001B[39m(mapped), index=obj.index)\n",
      "\u001B[36mFile \u001B[39m\u001B[32m~/Library/Caches/pypoetry/virtualenvs/web3-ethereum-defi-YE4GM4ox-py3.11/lib/python3.11/site-packages/pandas/core/base.py:921\u001B[39m, in \u001B[36mIndexOpsMixin._map_values\u001B[39m\u001B[34m(self, mapper, na_action, convert)\u001B[39m\n\u001B[32m    918\u001B[39m \u001B[38;5;28;01mif\u001B[39;00m \u001B[38;5;28misinstance\u001B[39m(arr, ExtensionArray):\n\u001B[32m    919\u001B[39m     \u001B[38;5;28;01mreturn\u001B[39;00m arr.map(mapper, na_action=na_action)\n\u001B[32m--> \u001B[39m\u001B[32m921\u001B[39m \u001B[38;5;28;01mreturn\u001B[39;00m \u001B[43malgorithms\u001B[49m\u001B[43m.\u001B[49m\u001B[43mmap_array\u001B[49m\u001B[43m(\u001B[49m\u001B[43marr\u001B[49m\u001B[43m,\u001B[49m\u001B[43m \u001B[49m\u001B[43mmapper\u001B[49m\u001B[43m,\u001B[49m\u001B[43m \u001B[49m\u001B[43mna_action\u001B[49m\u001B[43m=\u001B[49m\u001B[43mna_action\u001B[49m\u001B[43m,\u001B[49m\u001B[43m \u001B[49m\u001B[43mconvert\u001B[49m\u001B[43m=\u001B[49m\u001B[43mconvert\u001B[49m\u001B[43m)\u001B[49m\n",
      "\u001B[36mFile \u001B[39m\u001B[32m~/Library/Caches/pypoetry/virtualenvs/web3-ethereum-defi-YE4GM4ox-py3.11/lib/python3.11/site-packages/pandas/core/algorithms.py:1743\u001B[39m, in \u001B[36mmap_array\u001B[39m\u001B[34m(arr, mapper, na_action, convert)\u001B[39m\n\u001B[32m   1741\u001B[39m values = arr.astype(\u001B[38;5;28mobject\u001B[39m, copy=\u001B[38;5;28;01mFalse\u001B[39;00m)\n\u001B[32m   1742\u001B[39m \u001B[38;5;28;01mif\u001B[39;00m na_action \u001B[38;5;129;01mis\u001B[39;00m \u001B[38;5;28;01mNone\u001B[39;00m:\n\u001B[32m-> \u001B[39m\u001B[32m1743\u001B[39m     \u001B[38;5;28;01mreturn\u001B[39;00m \u001B[43mlib\u001B[49m\u001B[43m.\u001B[49m\u001B[43mmap_infer\u001B[49m\u001B[43m(\u001B[49m\u001B[43mvalues\u001B[49m\u001B[43m,\u001B[49m\u001B[43m \u001B[49m\u001B[43mmapper\u001B[49m\u001B[43m,\u001B[49m\u001B[43m \u001B[49m\u001B[43mconvert\u001B[49m\u001B[43m=\u001B[49m\u001B[43mconvert\u001B[49m\u001B[43m)\u001B[49m\n\u001B[32m   1744\u001B[39m \u001B[38;5;28;01melse\u001B[39;00m:\n\u001B[32m   1745\u001B[39m     \u001B[38;5;28;01mreturn\u001B[39;00m lib.map_infer_mask(\n\u001B[32m   1746\u001B[39m         values, mapper, mask=isna(values).view(np.uint8), convert=convert\n\u001B[32m   1747\u001B[39m     )\n",
      "\u001B[36mFile \u001B[39m\u001B[32mlib.pyx:2972\u001B[39m, in \u001B[36mpandas._libs.lib.map_infer\u001B[39m\u001B[34m()\u001B[39m\n",
      "\u001B[36mCell\u001B[39m\u001B[36m \u001B[39m\u001B[32mIn[3]\u001B[39m\u001B[32m, line 13\u001B[39m, in \u001B[36m<lambda>\u001B[39m\u001B[34m(token_details)\u001B[39m\n\u001B[32m     11\u001B[39m df[\u001B[33m\"\u001B[39m\u001B[33mChain\u001B[39m\u001B[33m\"\u001B[39m] = df[\u001B[33m\"\u001B[39m\u001B[33m_detection_data\u001B[39m\u001B[33m\"\u001B[39m].apply(\u001B[38;5;28;01mlambda\u001B[39;00m entry: get_chain_name(entry.chain))\n\u001B[32m     12\u001B[39m df[\u001B[33m\"\u001B[39m\u001B[33mProtocol identified\u001B[39m\u001B[33m\"\u001B[39m] = df[\u001B[33m\"\u001B[39m\u001B[33m_detection_data\u001B[39m\u001B[33m\"\u001B[39m].apply(\u001B[38;5;28;01mlambda\u001B[39;00m entry: entry.is_protocol_identifiable())\n\u001B[32m---> \u001B[39m\u001B[32m13\u001B[39m df[\u001B[33m\"\u001B[39m\u001B[33mStablecoin denominated\u001B[39m\u001B[33m\"\u001B[39m] = df[\u001B[33m\"\u001B[39m\u001B[33m_denomination_token\u001B[39m\u001B[33m\"\u001B[39m].apply(\u001B[38;5;28;01mlambda\u001B[39;00m token_details: \u001B[43mtoken_details\u001B[49m\u001B[43m.\u001B[49m\u001B[43mis_stablecoin_like\u001B[49m() \u001B[38;5;28;01mif\u001B[39;00m token_details \u001B[38;5;28;01melse\u001B[39;00m \u001B[38;5;28;01mFalse\u001B[39;00m)\n\u001B[32m     14\u001B[39m df[\u001B[33m\"\u001B[39m\u001B[33mERC-7540\u001B[39m\u001B[33m\"\u001B[39m] = df[\u001B[33m\"\u001B[39m\u001B[33m_detection_data\u001B[39m\u001B[33m\"\u001B[39m].apply(\u001B[38;5;28;01mlambda\u001B[39;00m entry: entry.is_erc_7540())\n\u001B[32m     15\u001B[39m df[\u001B[33m\"\u001B[39m\u001B[33mFee detected\u001B[39m\u001B[33m\"\u001B[39m] = df[\u001B[33m\"\u001B[39m\u001B[33m_detection_data\u001B[39m\u001B[33m\"\u001B[39m].apply(\u001B[38;5;28;01mlambda\u001B[39;00m row: (row[\u001B[33m\"\u001B[39m\u001B[33mMgmt fee\u001B[39m\u001B[33m\"\u001B[39m] \u001B[38;5;129;01mis\u001B[39;00m \u001B[38;5;129;01mnot\u001B[39;00m \u001B[38;5;28;01mNone\u001B[39;00m) \u001B[38;5;129;01mor\u001B[39;00m (row[\u001B[33m\"\u001B[39m\u001B[33mPerf fee\u001B[39m\u001B[33m\"\u001B[39m] \u001B[38;5;129;01mis\u001B[39;00m \u001B[38;5;129;01mnot\u001B[39;00m \u001B[38;5;28;01mNone\u001B[39;00m))\n",
      "\u001B[31mAttributeError\u001B[39m: 'float' object has no attribute 'is_stablecoin_like'"
     ]
    }
   ],
   "execution_count": 3
  },
  {
   "metadata": {},
   "cell_type": "markdown",
   "source": [
    "# Vault deployment history\n",
    "\n",
    "- Show how much history we have for each chain\n"
   ],
   "id": "b84dbf4017e4da2e"
  },
  {
   "metadata": {},
   "cell_type": "code",
   "outputs": [],
   "execution_count": null,
   "source": [
    "# Assuming your DataFrame is named 'df'\n",
    "seen_df = df.groupby(level='Chain')['First seen'].agg(['min', 'max']).reset_index()\n",
    "\n",
    "# Rename columns for clarity\n",
    "seen_df.columns = ['Chain', 'First vault deployed', 'Last vault deployed']\n",
    "\n",
    "display(seen_df)"
   ],
   "id": "1d033902a3c9d537"
  },
  {
   "metadata": {},
   "cell_type": "markdown",
   "source": [
    "## Vaults per chain summary\n",
    "\n",
    "- Get a summary of scanned chains at what vaults they have\n",
    "- *Generic* status means that we do not have classification rules to determine the protocol on which a particular ERC-4626 vault belongs\n",
    "- *Broken* status means that we could not correctly extract ERC-4626 information out of a smart contract\n",
    "\n",
    "To detect the protocol of a vault, we need to maintain a [manual rule list here](https://github.com/tradingstrategy-ai/web3-ethereum-defi/blob/master/eth_defi/erc_4626/classification.py). Not all protocols are supported at the moment. as there are too many protocols to manually examine and identify them. Open source contributions welcome.\n",
    "\n",
    "\n"
   ],
   "id": "3014e7478158de48"
  },
  {
   "metadata": {
    "ExecuteTime": {
     "end_time": "2025-04-07T09:45:35.743632Z",
     "start_time": "2025-04-07T07:37:05.320819Z"
    }
   },
   "cell_type": "code",
   "source": [
    "summary_df = df.groupby(level='Chain').size().reset_index(name='Count')\n",
    "summary_df = summary_df.sort_values(by='Count', ascending=False)\n",
    "display(summary_df)\n",
    "\n",
    "nav_threshold = 10_000\n",
    "\n",
    "# Built different masks\n",
    "identified_filter = df[\"Protocol identified\"] == True\n",
    "stablecoin_denominated = df[\"Stablecoin denominated\"] == True\n",
    "notable_nav = df[\"Stablecoin denominated\"] & (df[\"NAV\"] >= nav_threshold)\n",
    "erc_7540 = df[\"ERC-7540\"] == True \n",
    "fee_detected = df[\"Fee detected\"] == True \n",
    "\n",
    "# Create the summary DataFrame\n",
    "summary_df = pd.DataFrame({\n",
    "    'Total vaults detected': df.groupby(level='Chain').size(),\n",
    "    'Protocol identified': df[identified_filter].groupby(level='Chain').size(),\n",
    "    'Stablecoin denominated': df[stablecoin_denominated].groupby(level='Chain').size(),\n",
    "    f'Notable stablecoin NAV (min {nav_threshold} USD)': df[notable_nav].groupby(level='Chain').size(),\n",
    "    f'ERC-7540': df[erc_7540].groupby(level='Chain').size()\n",
    "    f'Fee data supported': df[fee_detected].groupby(level='Chain').size()\n",
    "}).fillna(0).astype(int).set_index(\"Chain\")"
   ],
   "id": "136bb35c63ce2afd",
   "outputs": [
    {
     "data": {
      "text/plain": [
       "         Chain  Count\n",
       "4     Ethereum   2074\n",
       "0     Arbitrum   1911\n",
       "8      Polygon    906\n",
       "3      Binance    314\n",
       "1    Avalanche    249\n",
       "2    Berachain    215\n",
       "7         Mode     56\n",
       "6       Mantle     37\n",
       "9     Unichain      7\n",
       "5  Hyperliquid      6"
      ],
      "text/html": [
       "<div>\n",
       "<style scoped>\n",
       "    .dataframe tbody tr th:only-of-type {\n",
       "        vertical-align: middle;\n",
       "    }\n",
       "\n",
       "    .dataframe tbody tr th {\n",
       "        vertical-align: top;\n",
       "    }\n",
       "\n",
       "    .dataframe thead th {\n",
       "        text-align: right;\n",
       "    }\n",
       "</style>\n",
       "<table border=\"1\" class=\"dataframe\">\n",
       "  <thead>\n",
       "    <tr style=\"text-align: right;\">\n",
       "      <th></th>\n",
       "      <th>Chain</th>\n",
       "      <th>Count</th>\n",
       "    </tr>\n",
       "  </thead>\n",
       "  <tbody>\n",
       "    <tr>\n",
       "      <th>4</th>\n",
       "      <td>Ethereum</td>\n",
       "      <td>2074</td>\n",
       "    </tr>\n",
       "    <tr>\n",
       "      <th>0</th>\n",
       "      <td>Arbitrum</td>\n",
       "      <td>1911</td>\n",
       "    </tr>\n",
       "    <tr>\n",
       "      <th>8</th>\n",
       "      <td>Polygon</td>\n",
       "      <td>906</td>\n",
       "    </tr>\n",
       "    <tr>\n",
       "      <th>3</th>\n",
       "      <td>Binance</td>\n",
       "      <td>314</td>\n",
       "    </tr>\n",
       "    <tr>\n",
       "      <th>1</th>\n",
       "      <td>Avalanche</td>\n",
       "      <td>249</td>\n",
       "    </tr>\n",
       "    <tr>\n",
       "      <th>2</th>\n",
       "      <td>Berachain</td>\n",
       "      <td>215</td>\n",
       "    </tr>\n",
       "    <tr>\n",
       "      <th>7</th>\n",
       "      <td>Mode</td>\n",
       "      <td>56</td>\n",
       "    </tr>\n",
       "    <tr>\n",
       "      <th>6</th>\n",
       "      <td>Mantle</td>\n",
       "      <td>37</td>\n",
       "    </tr>\n",
       "    <tr>\n",
       "      <th>9</th>\n",
       "      <td>Unichain</td>\n",
       "      <td>7</td>\n",
       "    </tr>\n",
       "    <tr>\n",
       "      <th>5</th>\n",
       "      <td>Hyperliquid</td>\n",
       "      <td>6</td>\n",
       "    </tr>\n",
       "  </tbody>\n",
       "</table>\n",
       "</div>"
      ]
     },
     "metadata": {},
     "output_type": "display_data"
    }
   ],
   "execution_count": 8
  },
  {
   "metadata": {},
   "cell_type": "markdown",
   "source": [
    "## Largest USD vaults\n",
    "\n",
    "- Show the stablecoin-denominated vaults across different chains that have largest USD treasury "
   ],
   "id": "63e21ad7dd9b2bf8"
  },
  {
   "metadata": {},
   "cell_type": "code",
   "outputs": [],
   "execution_count": null,
   "source": [
    "largest_threshold = 20\n",
    "largest_df = df.sort_values([\"NAV\"])\n",
    "\n",
    "largest_df = largest_df[[\"Chain\", \"Address\", \"Name\", \"Denomination\", \"NAV\"]]\n",
    "\n",
    "display(largest_df.head(largest_threshold))"
   ],
   "id": "1c323286eb26b26"
  },
  {
   "metadata": {},
   "cell_type": "markdown",
   "source": [
    "## Most active vaults\n",
    "\n",
    "- Determine vault activity by number of deposit and redeem events\n",
    "- Events may be driven by bots, so this may not reflect the popularity of a vault amount users\n"
   ],
   "id": "7f1f70119ad5bf49"
  },
  {
   "metadata": {},
   "cell_type": "code",
   "outputs": [],
   "execution_count": null,
   "source": [
    "largest_threshold = 20\n",
    "largest_df = df.sort_values([\"Total events\"])\n",
    "\n",
    "largest_df = largest_df[[\"Chain\", \"Address\", \"Name\", \"Denomination\", \"NAV\", \"Total events\", \"Deposit events\", \"Redeem events\"]]\n",
    "\n",
    "display(largest_df.head(largest_threshold))"
   ],
   "id": "1c82758badf32d74"
  },
  {
   "metadata": {},
   "cell_type": "markdown",
   "source": [
    "### Most active vault per chain\n",
    "\n",
    "- Display the number one vault per chain"
   ],
   "id": "7dfc4c0e7f040faa"
  },
  {
   "metadata": {},
   "cell_type": "code",
   "outputs": [],
   "execution_count": null,
   "source": "",
   "id": "ef9f7d846a23e78b"
  },
  {
   "metadata": {},
   "cell_type": "markdown",
   "source": "",
   "id": "a534b7e2b89af4ae"
  }
 ],
 "metadata": {
  "kernelspec": {
   "display_name": "Python 3",
   "language": "python",
   "name": "python3"
  },
  "language_info": {
   "codemirror_mode": {
    "name": "ipython",
    "version": 2
   },
   "file_extension": ".py",
   "mimetype": "text/x-python",
   "name": "python",
   "nbconvert_exporter": "python",
   "pygments_lexer": "ipython2",
   "version": "2.7.6"
  }
 },
 "nbformat": 4,
 "nbformat_minor": 5
}
