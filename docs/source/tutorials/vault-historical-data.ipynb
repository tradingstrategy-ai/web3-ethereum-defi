{
 "cells": [
  {
   "metadata": {},
   "cell_type": "markdown",
   "source": [
    "# Vault historical data reading\n",
    "\n",
    "An example notebook how to \n",
    "- Read historical data of various ERC-4262 vaults. Example protocols include Morpho, Beefy, IPOR, Lagoon.\n",
    "- How to compare net and gross performance of these vaults in a notebook\n",
    "- In this notebook, we will read data from Base \n"
   ],
   "id": "7d26c30d17fe2ed6"
  },
  {
   "metadata": {},
   "cell_type": "markdown",
   "source": [
    "# Setting up\n",
    "\n",
    "- Make sure we have JSON-RPC connection\n",
    "\n"
   ],
   "id": "5bb2e3e635643529"
  },
  {
   "metadata": {},
   "cell_type": "code",
   "outputs": [],
   "execution_count": null,
   "source": [
    "from urllib.parse import urlparse\n",
    "import os\n",
    "\n",
    "JSON_RPC_BASE = os.environ.get('JSON_RPC_BASE')\n",
    "if JSON_RPC_BASE is None:\n",
    "    JSON_RPC_BASE = input(\"Give URL to Base JSON-RPC server\")\n",
    "    try:\n",
    "        urlparse(JSON_RPC_BASE)\n",
    "    except ValueError:\n",
    "        raise ValueError(f\"Invalid JSON-RPC Base URL: {JSON_RPC_BASE}\")\n",
    "    \n"
   ],
   "id": "26076f7c72f25fbd"
  },
  {
   "metadata": {},
   "cell_type": "markdown",
   "source": "",
   "id": "f9d3f33cd27a3cc6"
  }
 ],
 "metadata": {
  "kernelspec": {
   "display_name": "Python 3",
   "language": "python",
   "name": "python3"
  },
  "language_info": {
   "codemirror_mode": {
    "name": "ipython",
    "version": 2
   },
   "file_extension": ".py",
   "mimetype": "text/x-python",
   "name": "python",
   "nbconvert_exporter": "python",
   "pygments_lexer": "ipython2",
   "version": "2.7.6"
  }
 },
 "nbformat": 4,
 "nbformat_minor": 5
}
