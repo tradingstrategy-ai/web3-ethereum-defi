{
 "cells": [
  {
   "cell_type": "markdown",
   "metadata": {},
   "source": [
    "# Aave V3 liquidations\n",
    "\n",
    "In this notebook we will show how to download liquidation events events from [Aave V3](https://tradingstrategy.ai/glossary/aave) to a Parquet file.\n",
    "\n",
    "* We use Envio's HyperSync service\n",
    "* We download data for multiple EVM chains"
   ]
  },
  {
   "metadata": {},
   "cell_type": "markdown",
   "source": [
    "## Setup\n",
    "\n",
    "- Setup chains\n",
    "\n",
    "\n"
   ]
  },
  {
   "metadata": {},
   "cell_type": "code",
   "outputs": [],
   "execution_count": null,
   "source": [
    "TARGET_CHAINS = [\n",
    "    \"binance\",\n",
    "    \"arbitrum\",\n",
    "    \"base\",\n",
    "    \"polygon\",\n",
    "    \"ethereum\",\n",
    "    \"plasma\"\n",
    "]"
   ]
  },
  {
   "cell_type": "code",
   "execution_count": null,
   "metadata": {},
   "outputs": [],
   "source": [
    "from eth_defi.aave_v3.events import aave_v3_fetch_events_to_csv\n",
    "from eth_defi.event_reader.json_state import JSONFileScanState\n",
    "\n",
    "start_block = aave_network.pool_created_at_block  # Read from creation of the Aave v3 pool\n",
    "end_block = max_block  # Read until end of available blocks\n",
    "max_workers = 8  # number of workers to use for parallel API request processing\n",
    "\n",
    "# Stores the last block number of event data we store\n",
    "state = JSONFileScanState(f\"aave-v3-{aave_network.name.lower()}-rate-scan.json\")\n",
    "\n",
    "aave_v3_fetch_events_to_csv(json_rpc_url, state, aave_network.name, start_block=start_block, end_block=end_block, max_workers=max_workers)"
   ]
  },
  {
   "cell_type": "markdown",
   "metadata": {},
   "source": [
    "### Analyze Aave v3 rate information\n",
    "\n",
    "Aave v3 rates can be read from the ReserveDataUpdated event history. Note that the dataset includes updates for all reserve currencies. See eth_defi/aave_v3/README.md for a more detailed description of the events."
   ]
  },
  {
   "cell_type": "code",
   "execution_count": null,
   "metadata": {},
   "outputs": [],
   "source": [
    "import pandas\n",
    "\n",
    "# Read the CSV data into a DataFrame\n",
    "reserve_data_updated_df = pandas.read_csv(f\"/tmp/aave-v3-{aave_network.name.lower()}-reservedataupdated.csv\")\n",
    "\n",
    "# Index the dataset by timestamp (convert to datetime objects)\n",
    "reserve_data_updated_df[\"timestamp\"] = pandas.to_datetime(reserve_data_updated_df[\"timestamp\"])\n",
    "reserve_data_updated_df.set_index(\"timestamp\", drop=False, inplace=True)\n",
    "\n",
    "print(f\"We have total {len(reserve_data_updated_df):,} reserve data updates in the dataset\")"
   ]
  },
  {
   "cell_type": "markdown",
   "metadata": {},
   "source": [
    "We calculate APY (Annual Percentage Yield) and APR (Annual Percentage Rate) based Aave documentation: https://docs.aave.com/developers/v/2.0/guides/apy-and-apr.\n",
    "\n",
    "The resulting dataframe also includes deposit and borrow rates as floating point variables for convenience.\n",
    "\n",
    "You can access these calculated columns in the resulting dataframe:\n",
    "\n",
    "* deposit_apr (float)\n",
    "* variable_borrow_apr (float)\n",
    "* stable_borrow_apr (float)\n",
    "* deposit_apy (float)\n",
    "* variable_borrow_apy (float)\n",
    "* stable_borrow_apy (float)\n",
    "* liquidity_rate_float (float)\n",
    "* variable_borrow_rate_float (float)\n",
    "* stable_borrow_rate_float (float)"
   ]
  },
  {
   "cell_type": "code",
   "execution_count": null,
   "metadata": {},
   "outputs": [],
   "source": [
    "from eth_defi.aave_v3.rates import aave_v3_calculate_apr_apy_rates\n",
    "\n",
    "apr_apy_df = aave_v3_calculate_apr_apy_rates(reserve_data_updated_df)\n",
    "apr_apy_df"
   ]
  },
  {
   "cell_type": "markdown",
   "metadata": {},
   "source": [
    "### Draw Aave v3 deposit rate graph\n",
    "\n",
    "We can now plot historical deposit rates into a graph. Here we show the daily mean liquidity rate, which determines the interest you gain for deposits."
   ]
  },
  {
   "cell_type": "code",
   "execution_count": null,
   "metadata": {},
   "outputs": [],
   "source": [
    "from eth_defi.aave_v3.rates import aave_v3_calculate_mean\n",
    "import plotly.graph_objects as go\n",
    "from plotly.subplots import make_subplots\n",
    "\n",
    "time_bucket = pandas.Timedelta(\"1D\")\n",
    "deposit_df = aave_v3_calculate_mean(apr_apy_df, time_bucket, \"liquidity_rate_float\", token) * 100\n",
    "deposit_rate_scatter = go.Scatter(\n",
    "    x=deposit_df.index,\n",
    "    y=deposit_df,\n",
    "    showlegend=True,\n",
    "    name=\"Deposit rate %s\" % (token),\n",
    "    # marker={ \"color\": \"rgba(0,128,0,1.0)\", }\n",
    ")\n",
    "\n",
    "fig = make_subplots(specs=[[{\"secondary_y\": False}]])\n",
    "fig.add_trace(deposit_rate_scatter, secondary_y=False)\n",
    "fig.update_layout(title=\"Aave v3 deposit rates\", height=800)\n",
    "fig.update_yaxes(title=\"Deposit rate %\", secondary_y=False, showgrid=False)\n",
    "fig.show()"
   ]
  },
  {
   "cell_type": "markdown",
   "metadata": {},
   "source": [
    "### Draw Aave v3 borrow rates graph\n",
    "\n",
    "We can plot historical stable and variable borrow rates into a graph. Here we show the daily mean variable/stable borrow rates.\n",
    "\n",
    "Note that we use a different currency token (DAI) for stable rates, because the WMATIC token does not have stable borrow rates available."
   ]
  },
  {
   "cell_type": "code",
   "execution_count": null,
   "metadata": {},
   "outputs": [],
   "source": [
    "from eth_defi.aave_v3.rates import aave_v3_calculate_mean\n",
    "import plotly.graph_objects as go\n",
    "from plotly.subplots import make_subplots\n",
    "\n",
    "time_bucket = pandas.Timedelta(\"1D\")\n",
    "variable_borrow_df = aave_v3_calculate_mean(apr_apy_df, time_bucket, \"variable_borrow_rate_float\", token) * 100\n",
    "stable_borrow_df = aave_v3_calculate_mean(apr_apy_df, time_bucket, \"stable_borrow_rate_float\", stable_token) * 100\n",
    "\n",
    "variable_borrow_rate_scatter = go.Scatter(\n",
    "    x=variable_borrow_df.index,\n",
    "    y=variable_borrow_df,\n",
    "    showlegend=True,\n",
    "    name=\"Variable rate %s\" % (token),\n",
    "    # marker={ \"color\": \"rgba(0,128,0,1.0)\", }\n",
    ")\n",
    "\n",
    "stable_borrow_rate_scatter = go.Scatter(\n",
    "    x=stable_borrow_df.index,\n",
    "    y=stable_borrow_df,\n",
    "    showlegend=True,\n",
    "    name=\"Stable rate %s\" % (stable_token),\n",
    "    # marker={ \"color\": \"rgba(0,128,0,1.0)\", }\n",
    ")\n",
    "\n",
    "fig = make_subplots(specs=[[{\"secondary_y\": False}]])\n",
    "fig.add_trace(variable_borrow_rate_scatter, secondary_y=False)\n",
    "fig.add_trace(stable_borrow_rate_scatter, secondary_y=False)\n",
    "fig.update_layout(title=\"Aave v3 borrow rates\", height=800)\n",
    "fig.update_yaxes(title=\"Borrow rate %\", secondary_y=False, showgrid=False)\n",
    "fig.show()"
   ]
  },
  {
   "cell_type": "markdown",
   "metadata": {},
   "source": [
    "### Draw Aave v3 APR/APY graph\n",
    "\n",
    "We can plot a historical APR/APY graph. The graph will show daily mean APR and APY rates for deposits, variable borrow debt and stable borrow debt.\n",
    "\n",
    "Note that for stable debt, we use the DAI token, while the other lines in the graph use the WMATIC token."
   ]
  },
  {
   "cell_type": "code",
   "execution_count": null,
   "metadata": {},
   "outputs": [],
   "source": [
    "from eth_defi.aave_v3.rates import aave_v3_calculate_mean\n",
    "import plotly.graph_objects as go\n",
    "from plotly.subplots import make_subplots\n",
    "\n",
    "# Calculate APR/APY mean values for each day\n",
    "time_bucket = pandas.Timedelta(\"1D\")\n",
    "\n",
    "# Calculate deposit and variable borrow rates for MATIC.\n",
    "deposit_apr_df, variable_borrow_apr_df = aave_v3_calculate_mean(apr_apy_df, time_bucket, (\"deposit_apr\", \"variable_borrow_apr\"), token)\n",
    "deposit_apy_df, variable_borrow_apy_df = aave_v3_calculate_mean(apr_apy_df, time_bucket, (\"deposit_apy\", \"variable_borrow_apy\"), token)\n",
    "\n",
    "# Calculate stable rates for stable currency (DAI).\n",
    "stable_borrow_apr_df = aave_v3_calculate_mean(apr_apy_df, time_bucket, \"stable_borrow_apr\", stable_token)\n",
    "stable_borrow_apy_df = aave_v3_calculate_mean(apr_apy_df, time_bucket, \"stable_borrow_apy\", stable_token)\n",
    "\n",
    "deposit_apr_df_scatter = go.Scatter(\n",
    "    x=deposit_apr_df.index,\n",
    "    y=deposit_apr_df,\n",
    "    showlegend=True,\n",
    "    name=\"Deposit %s APR\" % (token),\n",
    "    # marker={ \"color\": \"rgba(0,128,0,1.0)\", }\n",
    ")\n",
    "\n",
    "deposit_apy_df_scatter = go.Scatter(\n",
    "    x=deposit_apy_df.index,\n",
    "    y=deposit_apy_df,\n",
    "    showlegend=True,\n",
    "    name=\"Deposit %s APY\" % (token),\n",
    "    # marker={ \"color\": \"rgba(0,0,128,1.0)\", }\n",
    ")\n",
    "\n",
    "variable_borrow_apr_df_scatter = go.Scatter(\n",
    "    x=variable_borrow_apr_df.index,\n",
    "    y=variable_borrow_apr_df,\n",
    "    showlegend=True,\n",
    "    name=\"Variable %s Borrow APR\" % (token),\n",
    "    # marker={ \"color\": \"rgba(128,0,0,1.0)\", }\n",
    ")\n",
    "\n",
    "variable_borrow_apy_df_scatter = go.Scatter(\n",
    "    x=variable_borrow_apy_df.index,\n",
    "    y=variable_borrow_apy_df,\n",
    "    showlegend=True,\n",
    "    name=\"Variable %s Borrow APY\" % (token),\n",
    "    # marker={ \"color\": \"rgba(128,0,128,1.0)\", }\n",
    ")\n",
    "\n",
    "stable_borrow_apr_df_scatter = go.Scatter(\n",
    "    x=stable_borrow_apr_df.index,\n",
    "    y=stable_borrow_apr_df,\n",
    "    showlegend=True,\n",
    "    name=\"Stable %s Borrow APR\" % (stable_token),\n",
    "    # marker={ \"color\": \"rgba(128,0,0,1.0)\", }\n",
    ")\n",
    "\n",
    "stable_borrow_apy_df_scatter = go.Scatter(\n",
    "    x=stable_borrow_apy_df.index,\n",
    "    y=stable_borrow_apy_df,\n",
    "    showlegend=True,\n",
    "    name=\"Stable %s Borrow APY\" % (stable_token),\n",
    "    # marker={ \"color\": \"rgba(128,0,128,1.0)\", }\n",
    ")\n",
    "\n",
    "fig = make_subplots(specs=[[{\"secondary_y\": True}]])\n",
    "fig.add_trace(deposit_apr_df_scatter, secondary_y=False)\n",
    "fig.add_trace(deposit_apy_df_scatter, secondary_y=False)\n",
    "fig.add_trace(variable_borrow_apr_df_scatter, secondary_y=False)\n",
    "fig.add_trace(variable_borrow_apy_df_scatter, secondary_y=False)\n",
    "fig.add_trace(stable_borrow_apr_df_scatter, secondary_y=False)\n",
    "fig.add_trace(stable_borrow_apy_df_scatter, secondary_y=False)\n",
    "fig.update_layout(title=\"Aave v3 APR/APY\", height=800)\n",
    "fig.update_yaxes(title=\"APR/APY %\", secondary_y=False, showgrid=False)\n",
    "# fig.update_yaxes(title=\"Borrow APR/APY %\", secondary_y=True, showgrid=False)\n",
    "fig.show()"
   ]
  },
  {
   "cell_type": "markdown",
   "metadata": {},
   "source": [
    "### Calculate Aave v3 interest between given times\n",
    "\n",
    "These functions will calculate how much interest you paid if you took debt for the given time period,\n",
    "or how much interest you gained if you deposited currency for the given time period.\n",
    "\n",
    "You can compare these values to what the Aave v3 dashboard currently shows for your deposits/debt, if you set the start times, amounts and tokens correctly."
   ]
  },
  {
   "cell_type": "code",
   "execution_count": null,
   "metadata": {},
   "outputs": [],
   "source": [
    "from eth_defi.aave_v3.rates import aave_v3_calculate_accrued_deposit_interest, aave_v3_calculate_accrued_variable_borrow_interest, aave_v3_calculate_accrued_stable_borrow_interest\n",
    "from datetime import datetime\n",
    "from decimal import Decimal\n",
    "from importlib import reload\n",
    "\n",
    "start_time = datetime.fromisoformat(\"2022-08-06T03:17:23\")  # replace with start time of your deposit\n",
    "start_time_var = datetime.fromisoformat(\"2022-08-18T02:19:30\")  # replace with start time of your variable borrow debt\n",
    "start_time_stable = datetime.fromisoformat(\"2022-08-18T02:19:30\")  # replace with start time of your stable borrow debt\n",
    "\n",
    "end_time = datetime.now()\n",
    "\n",
    "amount = Decimal(50)  # replace with your amount of deposit\n",
    "amount_var = Decimal(10)  # replace with your amount of variable borrow debt\n",
    "amount_stable = Decimal(2)  # replace with your amount of stable borrow debt\n",
    "\n",
    "deposit_result = aave_v3_calculate_accrued_deposit_interest(reserve_data_updated_df, start_time, end_time, amount, token)\n",
    "variable_borrow_result = aave_v3_calculate_accrued_variable_borrow_interest(reserve_data_updated_df, start_time_var, end_time, amount_var, token)\n",
    "stable_borrow_result = aave_v3_calculate_accrued_stable_borrow_interest(reserve_data_updated_df, start_time_stable, end_time, amount_stable, stable_token)\n",
    "\n",
    "actual_elapsed = deposit_result.actual_end_time - deposit_result.actual_start_time\n",
    "actual_elapsed_var = variable_borrow_result.actual_end_time - variable_borrow_result.actual_start_time\n",
    "actual_elapsed_stable = stable_borrow_result.actual_end_time - stable_borrow_result.actual_start_time\n",
    "\n",
    "print(f\"{deposit_result.actual_start_time.isoformat()[0:19]} - {deposit_result.actual_end_time.isoformat()[0:19]} ({actual_elapsed.days}d) {amount} {token.upper()} deposit interest: {deposit_result.interest} {token.upper()}\")\n",
    "print(f\"{variable_borrow_result.actual_start_time.isoformat()[0:19]} - {variable_borrow_result.actual_end_time.isoformat()[0:19]} ({actual_elapsed_var.days}d) {amount_var} {token.upper()} variable borrow interest: {variable_borrow_result.interest} {token.upper()}\")\n",
    "print(f\"{stable_borrow_result.actual_start_time.isoformat()[0:19]} - {stable_borrow_result.actual_end_time.isoformat()[0:19]} ({actual_elapsed_stable.days}d) {amount_stable} {stable_token.upper()} stable borrow interest: {stable_borrow_result.interest} {stable_token.upper()}\")"
   ]
  },
  {
   "cell_type": "markdown",
   "metadata": {},
   "source": [
    "### Check current deposit account balance\n",
    "\n",
    "If you have an active deposit or debt in Aave v3, you can check your current balance (with accrued interest) in the blockchain using the below functions.\n",
    "\n",
    "You'll need to input your account address and check that the token matches the currency you are using."
   ]
  },
  {
   "cell_type": "code",
   "execution_count": null,
   "metadata": {},
   "outputs": [],
   "source": [
    "from eth_defi.aave_v3.balances import aave_v3_get_deposit_balance, aave_v3_get_variable_borrow_balance, aave_v3_get_stable_borrow_balance\n",
    "from eth_defi.aave_v3.constants import aave_v3_get_account_address\n",
    "\n",
    "# Lookup the token addresses needed for querying balances\n",
    "deposit_address = aave_network.token_contracts[token.upper()].deposit_address\n",
    "variable_borrow_address = aave_network.token_contracts[token.upper()].variable_borrow_address\n",
    "stable_deposit_address = aave_network.token_contracts[stable_token.upper()].deposit_address\n",
    "stable_borrow_address = aave_network.token_contracts[stable_token.upper()].stable_borrow_address\n",
    "\n",
    "# The account address whose balances we want to query\n",
    "account_address = aave_v3_get_account_address() or input(\"Please enter your account address\")\n",
    "\n",
    "# Get the balances\n",
    "deposit_balance = aave_v3_get_deposit_balance(web3, deposit_address, account_address)\n",
    "variable_borrow_balance = aave_v3_get_variable_borrow_balance(web3, variable_borrow_address, account_address)\n",
    "stable_borrow_balance = aave_v3_get_stable_borrow_balance(web3, stable_borrow_address, account_address)\n",
    "\n",
    "print(f\"{token.upper()} deposit balance: {deposit_balance}\")\n",
    "print(f\"{token.upper()} variable borrow balance: {variable_borrow_balance}\")\n",
    "print(f\"{stable_token.upper()} stable borrow balance: {stable_borrow_balance}\")"
   ]
  }
 ],
 "metadata": {
  "kernelspec": {
   "display_name": "Python 3.10.4 ('web3-ethereum-defi-itBvgivT-py3.10')",
   "language": "python",
   "name": "python3"
  },
  "language_info": {
   "codemirror_mode": {
    "name": "ipython",
    "version": 3
   },
   "file_extension": ".py",
   "mimetype": "text/x-python",
   "name": "python",
   "nbconvert_exporter": "python",
   "pygments_lexer": "ipython3",
   "version": "3.10.4"
  },
  "orig_nbformat": 4,
  "vscode": {
   "interpreter": {
    "hash": "ea9c42324fc6a22b5050eca0554955a9b1789593e7df3eccd2e9a5ed18cb90d2"
   }
  }
 },
 "nbformat": 4,
 "nbformat_minor": 2
}
