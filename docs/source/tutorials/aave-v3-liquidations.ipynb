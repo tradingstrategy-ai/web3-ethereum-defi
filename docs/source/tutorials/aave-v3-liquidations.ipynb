{
 "cells": [
  {
   "cell_type": "markdown",
   "metadata": {},
   "source": [
    "# Aave V3 liquidations\n",
    "\n",
    "In this notebook we will analyse liquidation events events from [Aave V3](https://tradingstrategy.ai/glossary/aave) to a Parquet file.\n",
    "\n",
    "* Run the script `scipts/aave-v3/scan-liquidations.py` to download the data\n",
    "    * You need JSON RPC endpoints for the chains you want to scan\n",
    "\n",
    "```shell\n",
    "python scripts/aave-v3/scan-liquidations.py\n",
    "```\n",
    "\n",
    "```\n",
    "Reading Aave liquidations data on Binance: 1 - 64,473,706: 100%|████████████████████████████████████████████████████████████████| 64473705/64473705 [00:39<00:00, 1622236.90it/s, At=2025-10-13 08:43:20, Liquidations=9,353]\n",
    "Chain binance done, total liquidation rows now 9,353, file size is 1.58 MiB\n",
    "Reading Aave liquidations data on Arbitrum: 1 - 389,080,336: 100%|███████████████████████████████████████████████████████████| 389080335/389080335 [01:22<00:00, 4738462.79it/s, At=2025-10-12 15:42:05, Liquidations=43,989]\n",
    "Chain arbitrum done, total liquidation rows now 53,342, file size is 7.28 MiB\n",
    "...\n",
    "```"
   ]
  },
  {
   "metadata": {},
   "cell_type": "markdown",
   "source": [
    "## Setup\n",
    "\n",
    "- Setup chains and where do we store the results\n",
    "\n",
    "\n"
   ]
  },
  {
   "metadata": {
    "ExecuteTime": {
     "end_time": "2025-10-13T11:34:24.678383Z",
     "start_time": "2025-10-13T11:34:23.978014Z"
    }
   },
   "cell_type": "code",
   "source": [
    "from pathlib import Path\n",
    "\n",
    "import pandas as pd\n",
    "\n",
    "PARQUET_PATH = Path.home() / \".tradingstrategy\" / \"liquidations\" / \"aave-v3-liquidations.parquet\"\n",
    "\n",
    "assert PARQUET_PATH.exists(), f\"Run the script scripts/aave-v3/scan-liquidations.py to create the file {PARQUET_PATH}\"\n",
    "\n",
    "# Initialise the data file if it does not exist\n",
    "df = pd.read_parquet(PARQUET_PATH) "
   ],
   "outputs": [],
   "execution_count": 4
  },
  {
   "metadata": {},
   "cell_type": "markdown",
   "source": [
    "## Data inspection\n",
    "\n",
    "- See what kind of data we have"
   ]
  },
  {
   "metadata": {
    "ExecuteTime": {
     "end_time": "2025-10-13T11:34:24.712814Z",
     "start_time": "2025-10-13T11:34:24.694299Z"
    }
   },
   "cell_type": "code",
   "source": "display(df.head(5))",
   "outputs": [
    {
     "data": {
      "text/plain": [
       "   chain_id chain_name                                    contract  \\\n",
       "0        56    Binance  0x618bd91ebe2224b7cd433d92532730da10032e08   \n",
       "1        56    Binance  0x618bd91ebe2224b7cd433d92532730da10032e08   \n",
       "2        56    Binance  0x618bd91ebe2224b7cd433d92532730da10032e08   \n",
       "3        56    Binance  0x618bd91ebe2224b7cd433d92532730da10032e08   \n",
       "4        56    Binance  0x618bd91ebe2224b7cd433d92532730da10032e08   \n",
       "\n",
       "   block_number                                         block_hash  \\\n",
       "0       9319115  0xc7e4bac90a16da7f92d24c3717144a0a421539a250fd...   \n",
       "1       9320213  0xce6cbbd52fad9285bf26beb59c58f5b78582194479ec...   \n",
       "2       9320248  0x2228abe21c300ddf2fa94a2bec26af5b3d3ac35ff300...   \n",
       "3       9320321  0xbc0c6239aa5a2c974db09f32dce6b3e6714c17e75f77...   \n",
       "4       9320366  0x9a5fe737929c7404d37656c79d17facb65033746157d...   \n",
       "\n",
       "            timestamp                                   transaction_hash  \\\n",
       "0 2021-07-20 10:05:43  0x55b70adde19900a8f58f32732a3aa06a423ae494b05b...   \n",
       "1 2021-07-20 11:00:37  0xe5717eb05f04e83d7b2cbd70a0adc7ddad5d48b31067...   \n",
       "2 2021-07-20 11:02:22  0x2cecc4a812d4a96c8bf7f86c7f8d1a1dbae82b206969...   \n",
       "3 2021-07-20 11:06:01  0x1d26c7a093458ea2730b8773002c6c458837ac13a3ea...   \n",
       "4 2021-07-20 11:08:16  0x1c2edba679051243a793c5ac77fd89c657d23593a33c...   \n",
       "\n",
       "   log_index collateral_asset debt_asset  \\\n",
       "0        530              ETH        XPO   \n",
       "1        391              ETH        XPO   \n",
       "2        153              ETH        XPO   \n",
       "3        543              ETH        XPO   \n",
       "4        389              ETH        XPO   \n",
       "\n",
       "                                         user  debt_to_cover  \\\n",
       "0  0xF0eF8D2A9D2fd929c6FA5dAddF26923F16893A4C     100.000000   \n",
       "1  0x065003146991eC55515A419f264df5cD15A5Be14    8831.343459   \n",
       "2  0x4Bd2514fe28dF23f88084007605cD37817F26Ed2    1180.000000   \n",
       "3  0x9b75A39CB03f00704C81feB9512524Fa91dA43d4   22210.468110   \n",
       "4  0x60668466b255b56B3c85C18F657c8634De993f67    2590.000000   \n",
       "\n",
       "   liquidated_collateral_amount                                  liquidator  \\\n",
       "0                      0.001185  0xc4e0ffe31153d30da9c166ffab9f1cffee7b3712   \n",
       "1                      0.104700  0xe92fa2ea7f734be486556ce341697707cb336e56   \n",
       "2                      0.013989  0xe92fa2ea7f734be486556ce341697707cb336e56   \n",
       "3                      0.267400  0xe92fa2ea7f734be486556ce341697707cb336e56   \n",
       "4                      0.031182  0xe92fa2ea7f734be486556ce341697707cb336e56   \n",
       "\n",
       "   receive_a_token  \n",
       "0            False  \n",
       "1            False  \n",
       "2            False  \n",
       "3            False  \n",
       "4            False  "
      ],
      "text/html": [
       "<div>\n",
       "<style scoped>\n",
       "    .dataframe tbody tr th:only-of-type {\n",
       "        vertical-align: middle;\n",
       "    }\n",
       "\n",
       "    .dataframe tbody tr th {\n",
       "        vertical-align: top;\n",
       "    }\n",
       "\n",
       "    .dataframe thead th {\n",
       "        text-align: right;\n",
       "    }\n",
       "</style>\n",
       "<table border=\"1\" class=\"dataframe\">\n",
       "  <thead>\n",
       "    <tr style=\"text-align: right;\">\n",
       "      <th></th>\n",
       "      <th>chain_id</th>\n",
       "      <th>chain_name</th>\n",
       "      <th>contract</th>\n",
       "      <th>block_number</th>\n",
       "      <th>block_hash</th>\n",
       "      <th>timestamp</th>\n",
       "      <th>transaction_hash</th>\n",
       "      <th>log_index</th>\n",
       "      <th>collateral_asset</th>\n",
       "      <th>debt_asset</th>\n",
       "      <th>user</th>\n",
       "      <th>debt_to_cover</th>\n",
       "      <th>liquidated_collateral_amount</th>\n",
       "      <th>liquidator</th>\n",
       "      <th>receive_a_token</th>\n",
       "    </tr>\n",
       "  </thead>\n",
       "  <tbody>\n",
       "    <tr>\n",
       "      <th>0</th>\n",
       "      <td>56</td>\n",
       "      <td>Binance</td>\n",
       "      <td>0x618bd91ebe2224b7cd433d92532730da10032e08</td>\n",
       "      <td>9319115</td>\n",
       "      <td>0xc7e4bac90a16da7f92d24c3717144a0a421539a250fd...</td>\n",
       "      <td>2021-07-20 10:05:43</td>\n",
       "      <td>0x55b70adde19900a8f58f32732a3aa06a423ae494b05b...</td>\n",
       "      <td>530</td>\n",
       "      <td>ETH</td>\n",
       "      <td>XPO</td>\n",
       "      <td>0xF0eF8D2A9D2fd929c6FA5dAddF26923F16893A4C</td>\n",
       "      <td>100.000000</td>\n",
       "      <td>0.001185</td>\n",
       "      <td>0xc4e0ffe31153d30da9c166ffab9f1cffee7b3712</td>\n",
       "      <td>False</td>\n",
       "    </tr>\n",
       "    <tr>\n",
       "      <th>1</th>\n",
       "      <td>56</td>\n",
       "      <td>Binance</td>\n",
       "      <td>0x618bd91ebe2224b7cd433d92532730da10032e08</td>\n",
       "      <td>9320213</td>\n",
       "      <td>0xce6cbbd52fad9285bf26beb59c58f5b78582194479ec...</td>\n",
       "      <td>2021-07-20 11:00:37</td>\n",
       "      <td>0xe5717eb05f04e83d7b2cbd70a0adc7ddad5d48b31067...</td>\n",
       "      <td>391</td>\n",
       "      <td>ETH</td>\n",
       "      <td>XPO</td>\n",
       "      <td>0x065003146991eC55515A419f264df5cD15A5Be14</td>\n",
       "      <td>8831.343459</td>\n",
       "      <td>0.104700</td>\n",
       "      <td>0xe92fa2ea7f734be486556ce341697707cb336e56</td>\n",
       "      <td>False</td>\n",
       "    </tr>\n",
       "    <tr>\n",
       "      <th>2</th>\n",
       "      <td>56</td>\n",
       "      <td>Binance</td>\n",
       "      <td>0x618bd91ebe2224b7cd433d92532730da10032e08</td>\n",
       "      <td>9320248</td>\n",
       "      <td>0x2228abe21c300ddf2fa94a2bec26af5b3d3ac35ff300...</td>\n",
       "      <td>2021-07-20 11:02:22</td>\n",
       "      <td>0x2cecc4a812d4a96c8bf7f86c7f8d1a1dbae82b206969...</td>\n",
       "      <td>153</td>\n",
       "      <td>ETH</td>\n",
       "      <td>XPO</td>\n",
       "      <td>0x4Bd2514fe28dF23f88084007605cD37817F26Ed2</td>\n",
       "      <td>1180.000000</td>\n",
       "      <td>0.013989</td>\n",
       "      <td>0xe92fa2ea7f734be486556ce341697707cb336e56</td>\n",
       "      <td>False</td>\n",
       "    </tr>\n",
       "    <tr>\n",
       "      <th>3</th>\n",
       "      <td>56</td>\n",
       "      <td>Binance</td>\n",
       "      <td>0x618bd91ebe2224b7cd433d92532730da10032e08</td>\n",
       "      <td>9320321</td>\n",
       "      <td>0xbc0c6239aa5a2c974db09f32dce6b3e6714c17e75f77...</td>\n",
       "      <td>2021-07-20 11:06:01</td>\n",
       "      <td>0x1d26c7a093458ea2730b8773002c6c458837ac13a3ea...</td>\n",
       "      <td>543</td>\n",
       "      <td>ETH</td>\n",
       "      <td>XPO</td>\n",
       "      <td>0x9b75A39CB03f00704C81feB9512524Fa91dA43d4</td>\n",
       "      <td>22210.468110</td>\n",
       "      <td>0.267400</td>\n",
       "      <td>0xe92fa2ea7f734be486556ce341697707cb336e56</td>\n",
       "      <td>False</td>\n",
       "    </tr>\n",
       "    <tr>\n",
       "      <th>4</th>\n",
       "      <td>56</td>\n",
       "      <td>Binance</td>\n",
       "      <td>0x618bd91ebe2224b7cd433d92532730da10032e08</td>\n",
       "      <td>9320366</td>\n",
       "      <td>0x9a5fe737929c7404d37656c79d17facb65033746157d...</td>\n",
       "      <td>2021-07-20 11:08:16</td>\n",
       "      <td>0x1c2edba679051243a793c5ac77fd89c657d23593a33c...</td>\n",
       "      <td>389</td>\n",
       "      <td>ETH</td>\n",
       "      <td>XPO</td>\n",
       "      <td>0x60668466b255b56B3c85C18F657c8634De993f67</td>\n",
       "      <td>2590.000000</td>\n",
       "      <td>0.031182</td>\n",
       "      <td>0xe92fa2ea7f734be486556ce341697707cb336e56</td>\n",
       "      <td>False</td>\n",
       "    </tr>\n",
       "  </tbody>\n",
       "</table>\n",
       "</div>"
      ]
     },
     "metadata": {},
     "output_type": "display_data"
    }
   ],
   "execution_count": 5
  },
  {
   "metadata": {},
   "cell_type": "markdown",
   "source": [
    "## Analyse liquidations\n",
    "\n",
    "- Do simple liquidations analysis on a single chain, single token\n",
    "\n"
   ]
  },
  {
   "metadata": {},
   "cell_type": "markdown",
   "source": ""
  },
  {
   "metadata": {},
   "cell_type": "code",
   "outputs": [],
   "execution_count": null,
   "source": "### Choose analysis parameters"
  },
  {
   "metadata": {
    "ExecuteTime": {
     "end_time": "2025-10-13T11:34:24.800191Z",
     "start_time": "2025-10-13T11:34:24.798526Z"
    }
   },
   "cell_type": "code",
   "source": [
    "# Get WETH liquidations on the mainnet\n",
    "\n",
    "filtered_df = df[(df[\"chain_name\"] == \"ethereum\") & (df[\"collateral_asset\"] == \"WETH\")]\n",
    "\n",
    "print(f\"Total WETH liquidations on Ethereum: {len(filtered_df)}\")\n",
    "\n",
    "\n"
   ],
   "outputs": [],
   "execution_count": null
  },
  {
   "metadata": {},
   "cell_type": "code",
   "outputs": [],
   "execution_count": null,
   "source": ""
  },
  {
   "metadata": {},
   "cell_type": "markdown",
   "source": [
    "### Cumulative liquidations over time\n",
    "\n"
   ]
  },
  {
   "metadata": {},
   "cell_type": "code",
   "outputs": [],
   "execution_count": null,
   "source": ""
  },
  {
   "metadata": {},
   "cell_type": "markdown",
   "source": ""
  }
 ],
 "metadata": {
  "kernelspec": {
   "display_name": "Python 3.10.4 ('web3-ethereum-defi-itBvgivT-py3.10')",
   "language": "python",
   "name": "python3"
  },
  "language_info": {
   "codemirror_mode": {
    "name": "ipython",
    "version": 3
   },
   "file_extension": ".py",
   "mimetype": "text/x-python",
   "name": "python",
   "nbconvert_exporter": "python",
   "pygments_lexer": "ipython3",
   "version": "3.10.4"
  },
  "orig_nbformat": 4,
  "vscode": {
   "interpreter": {
    "hash": "ea9c42324fc6a22b5050eca0554955a9b1789593e7df3eccd2e9a5ed18cb90d2"
   }
  }
 },
 "nbformat": 4,
 "nbformat_minor": 2
}
